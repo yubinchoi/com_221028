{
  "nbformat": 4,
  "nbformat_minor": 0,
  "metadata": {
    "colab": {
      "provenance": [],
      "authorship_tag": "ABX9TyPO4uvlmYdHR1dCcz1ixR6g",
      "include_colab_link": true
    },
    "kernelspec": {
      "name": "python3",
      "display_name": "Python 3"
    },
    "language_info": {
      "name": "python"
    }
  },
  "cells": [
    {
      "cell_type": "markdown",
      "metadata": {
        "id": "view-in-github",
        "colab_type": "text"
      },
      "source": [
        "<a href=\"https://colab.research.google.com/github/yubinchoi/com_221028/blob/main/com_22201_221028.ipynb\" target=\"_parent\"><img src=\"https://colab.research.google.com/assets/colab-badge.svg\" alt=\"Open In Colab\"/></a>"
      ]
    },
    {
      "cell_type": "markdown",
      "source": [
        "문제를 냅니다."
      ],
      "metadata": {
        "id": "0RuzYBbn96tc"
      }
    },
    {
      "cell_type": "code",
      "execution_count": 5,
      "metadata": {
        "colab": {
          "base_uri": "https://localhost:8080/"
        },
        "id": "Nzv5OxIH92ej",
        "outputId": "40f7607d-32de-4360-85d5-03ad8330bdb1"
      },
      "outputs": [
        {
          "output_type": "stream",
          "name": "stdout",
          "text": [
            "점수를 입력하시오.:10\n",
            "점수를 입력하시오.:10\n",
            "점수를 입력하시오.:10\n",
            "점수를 입력하시오.:10\n",
            "점수를 입력하시오.:10\n",
            "점수를 입력하시오.:10\n",
            "점수를 입력하시오.:10\n",
            "점수를 입력하시오.:10\n",
            "점수를 입력하시오.:10\n",
            "점수를 입력하시오.:10\n",
            "10.0\n"
          ]
        }
      ],
      "source": [
        "total = 0\n",
        "counter = 1\n",
        "while counter <= 10:\n",
        "  grade = int(input(\"점수를 입력하시오.:\"))\n",
        "  total = grade + total\n",
        "  counter = counter + 1\n",
        "average = total/10\n",
        "print(average)"
      ]
    },
    {
      "cell_type": "code",
      "source": [
        "x=10\n",
        "y=2\n",
        "result=x+y\n",
        "print(result)"
      ],
      "metadata": {
        "colab": {
          "base_uri": "https://localhost:8080/"
        },
        "id": "M4tllEjhEUgR",
        "outputId": "88bb204d-7256-4ab0-b941-bfe956a6e6d7"
      },
      "execution_count": 7,
      "outputs": [
        {
          "output_type": "stream",
          "name": "stdout",
          "text": [
            "12\n"
          ]
        }
      ]
    },
    {
      "cell_type": "code",
      "source": [
        "print(\"Hello World! 안녕 파이썬!\");\n",
        "print('Hello World! 안녕 파이썬!')"
      ],
      "metadata": {
        "colab": {
          "base_uri": "https://localhost:8080/"
        },
        "id": "xzVJHmj4FJfB",
        "outputId": "c9a394a5-5cd6-4d0f-d1e4-b95b5f356fa0"
      },
      "execution_count": 11,
      "outputs": [
        {
          "output_type": "stream",
          "name": "stdout",
          "text": [
            "Hello World! 안녕 파이썬!\n",
            "Hello World! 안녕 파이썬!\n"
          ]
        }
      ]
    },
    {
      "cell_type": "code",
      "source": [
        "print(\"#\" * 15)\n",
        "print(\"# 안녕하세요? #\")\n",
        "print(\"#\" * 15)"
      ],
      "metadata": {
        "colab": {
          "base_uri": "https://localhost:8080/"
        },
        "id": "a6cU5h7GHjnZ",
        "outputId": "fe1b3fc1-06f6-4125-b385-a4854689e26c"
      },
      "execution_count": 13,
      "outputs": [
        {
          "output_type": "stream",
          "name": "stdout",
          "text": [
            "###############\n",
            "# 안녕하세요? #\n",
            "###############\n"
          ]
        }
      ]
    },
    {
      "cell_type": "code",
      "source": [
        "print(4+3);"
      ],
      "metadata": {
        "id": "g399iIWFGOd5"
      },
      "execution_count": null,
      "outputs": []
    },
    {
      "cell_type": "code",
      "source": [
        "print(\"3개의 값을 입력하시오.\")\n",
        "x = int(input(\"x의 값을 입력하시오.:\"))\n",
        "y = int(input(\"y의 값을 입력하시오.:\"))\n",
        "z = int(input(\"z의 값을 입력하시오.:\"))\n",
        "x = x+1\n",
        "y = y+1\n",
        "z = z+1\n",
        "print(\"변경된 값은:\",x,y,z,\"로 변경되었습니다.\")"
      ],
      "metadata": {
        "colab": {
          "base_uri": "https://localhost:8080/"
        },
        "id": "m-nzHozWKIMD",
        "outputId": "70d2872b-ea56-4f39-da1c-4fb466405d4d"
      },
      "execution_count": 23,
      "outputs": [
        {
          "output_type": "stream",
          "name": "stdout",
          "text": [
            "3개의 값을 입력하시오.\n",
            "x의 값을 입력하시오.:10\n",
            "y의 값을 입력하시오.:5\n",
            "z의 값을 입력하시오.:6\n",
            "변경된 값은: 11 6 7 로 변경되었습니다.\n"
          ]
        }
      ]
    },
    {
      "cell_type": "code",
      "source": [
        "won=10000\n",
        "usd=won*1418\n",
        "print(usd)"
      ],
      "metadata": {
        "colab": {
          "base_uri": "https://localhost:8080/"
        },
        "id": "nMMHxPrrNDq_",
        "outputId": "81b9153f-1b9e-46f1-d2dc-8daf1362ec7a"
      },
      "execution_count": 24,
      "outputs": [
        {
          "output_type": "stream",
          "name": "stdout",
          "text": [
            "14180000\n"
          ]
        }
      ]
    },
    {
      "cell_type": "code",
      "source": [
        "print(\"현재 환율을 입력하시요.:\")\n",
        "exchange_rate=int(input(\"달러의 환유금액을 입력:\"))\n",
        "won=int(input(\"한화를 입력하시오.:\"))\n",
        "usd=won*exchange_rate\n",
        "print(usd)"
      ],
      "metadata": {
        "colab": {
          "base_uri": "https://localhost:8080/"
        },
        "id": "jVnfhGyANunO",
        "outputId": "dea0c8da-f601-48e6-d14a-2142ee7e1fa0"
      },
      "execution_count": 26,
      "outputs": [
        {
          "output_type": "stream",
          "name": "stdout",
          "text": [
            "현재 환율을 입력하시요.:\n",
            "달러의 환유금액을 입력:1418\n",
            "한화를 입력하시오.:5000\n",
            "7090000\n"
          ]
        }
      ]
    },
    {
      "cell_type": "code",
      "source": [
        "fahrenheit=100\n",
        "celsius=fahrenheit-32\n",
        "celsius=celsius*5\n",
        "celsius=celsius/9\n",
        "print(celsius)"
      ],
      "metadata": {
        "id": "JkeO6YItPI8n"
      },
      "execution_count": null,
      "outputs": []
    },
    {
      "cell_type": "code",
      "source": [
        "fahrenheit=100\n",
        "celsius=5*(fahrenheit-32)/9\n",
        "print(celsius)"
      ],
      "metadata": {
        "colab": {
          "base_uri": "https://localhost:8080/"
        },
        "id": "b9_HsSjiPyGu",
        "outputId": "2b10a237-8fc1-40a9-e4a2-8bd12944f3ec"
      },
      "execution_count": 30,
      "outputs": [
        {
          "output_type": "stream",
          "name": "stdout",
          "text": [
            "37.77777777777778\n"
          ]
        }
      ]
    }
  ]
}